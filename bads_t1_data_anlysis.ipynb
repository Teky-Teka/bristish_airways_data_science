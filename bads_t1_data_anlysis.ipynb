{
 "cells": [
  {
   "cell_type": "markdown",
   "metadata": {},
   "source": [
    "# -1_ Task One: review data insights\n",
    "\n",
    "This notebook includes some code to collect review data from the `SkyTrax` https://www.airlinequality.com website using `BeautifulSoup` package for web scrapping. The collected data are saved it into a local `.csv` to perform analysis.\n",
    "\n",
    "## -1.a- Data scrapping & Cleaning\n",
    "\n",
    "For this task, we focus our analysis on reviews related to British Airways and the Airline itself.\n",
    "If you navigate to this link: [https://www.airlinequality.com/airline-reviews/british-airways] you will see this data. \n",
    "Now, we use `Python` and `BeautifulSoup` to collect all the links to the reviews and then to collect the text data on each of the individual review links."
   ]
  },
  {
   "cell_type": "code",
   "execution_count": 56,
   "metadata": {},
   "outputs": [],
   "source": [
    "import requests\n",
    "from bs4 import BeautifulSoup\n",
    "import pandas as pd\n",
    "import re\n"
   ]
  },
  {
   "cell_type": "code",
   "execution_count": 57,
   "metadata": {},
   "outputs": [
    {
     "name": "stdout",
     "output_type": "stream",
     "text": [
      "Scraping page 1\n",
      "https://www.airlinequality.com/airline-reviews/british-airways/page/1/?sortby=post_date%3ADesc&pagesize=100\n",
      "   ---> 100 total reviews\n",
      "Scraping page 2\n",
      "https://www.airlinequality.com/airline-reviews/british-airways/page/2/?sortby=post_date%3ADesc&pagesize=100\n",
      "   ---> 200 total reviews\n",
      "Scraping page 3\n",
      "https://www.airlinequality.com/airline-reviews/british-airways/page/3/?sortby=post_date%3ADesc&pagesize=100\n",
      "   ---> 300 total reviews\n",
      "Scraping page 4\n",
      "https://www.airlinequality.com/airline-reviews/british-airways/page/4/?sortby=post_date%3ADesc&pagesize=100\n",
      "   ---> 400 total reviews\n",
      "Scraping page 5\n",
      "https://www.airlinequality.com/airline-reviews/british-airways/page/5/?sortby=post_date%3ADesc&pagesize=100\n",
      "   ---> 500 total reviews\n",
      "Scraping page 6\n",
      "https://www.airlinequality.com/airline-reviews/british-airways/page/6/?sortby=post_date%3ADesc&pagesize=100\n",
      "   ---> 600 total reviews\n",
      "Scraping page 7\n",
      "https://www.airlinequality.com/airline-reviews/british-airways/page/7/?sortby=post_date%3ADesc&pagesize=100\n",
      "   ---> 700 total reviews\n",
      "Scraping page 8\n",
      "https://www.airlinequality.com/airline-reviews/british-airways/page/8/?sortby=post_date%3ADesc&pagesize=100\n",
      "   ---> 800 total reviews\n",
      "Scraping page 9\n",
      "https://www.airlinequality.com/airline-reviews/british-airways/page/9/?sortby=post_date%3ADesc&pagesize=100\n",
      "   ---> 900 total reviews\n",
      "Scraping page 10\n",
      "https://www.airlinequality.com/airline-reviews/british-airways/page/10/?sortby=post_date%3ADesc&pagesize=100\n",
      "   ---> 1000 total reviews\n"
     ]
    }
   ],
   "source": [
    "bads_url = \"https://www.airlinequality.com/airline-reviews/british-airways\"\n",
    "pages = 10\n",
    "# if you want to collect more data, try increasing the number of pages!\n",
    "page_size = 100\n",
    "\n",
    "reviews = []\n",
    "\n",
    "# loop to collect 1000 reviews by iterating through the paginated pages\n",
    "for i in range(1, pages + 1):\n",
    "\n",
    "    print(f\"Scraping page {i}\")\n",
    "\n",
    "    # Create URL to collect links from paginated data\n",
    "    url = f\"{bads_url}/page/{i}/?sortby=post_date%3ADesc&pagesize={page_size}\"\n",
    "    print(url)\n",
    "    # Collect HTML data from this page\n",
    "    response = requests.get(url)\n",
    "\n",
    "    # Parse content\n",
    "    content = response.content\n",
    "    parsed_content = BeautifulSoup(content, 'html.parser')\n",
    "    # loop to extract the \"text_content\" HTML class data\n",
    "    for para in parsed_content.find_all(\"div\", {\"class\": \"text_content\"}):\n",
    "        # clean this data to remove any unnecessary text from each of the rows.\n",
    "        # Delete \"✅ Trip Verified\" or \"Not Verified as it's not relevant for investigation.\n",
    "        # Begin all review after the \"|\" sequence, after strimming the spaces \" \".\n",
    "        review = para.get_text()\n",
    "        reviews.append(review[review.index(\"|\")+1:].lstrip())\n",
    "\n",
    "    print(f\"   ---> {len(reviews)} total reviews\")\n"
   ]
  },
  {
   "cell_type": "code",
   "execution_count": 58,
   "metadata": {},
   "outputs": [
    {
     "data": {
      "text/html": [
       "<div>\n",
       "<style scoped>\n",
       "    .dataframe tbody tr th:only-of-type {\n",
       "        vertical-align: middle;\n",
       "    }\n",
       "\n",
       "    .dataframe tbody tr th {\n",
       "        vertical-align: top;\n",
       "    }\n",
       "\n",
       "    .dataframe thead th {\n",
       "        text-align: right;\n",
       "    }\n",
       "</style>\n",
       "<table border=\"1\" class=\"dataframe\">\n",
       "  <thead>\n",
       "    <tr style=\"text-align: right;\">\n",
       "      <th></th>\n",
       "      <th>reviews</th>\n",
       "    </tr>\n",
       "  </thead>\n",
       "  <tbody>\n",
       "    <tr>\n",
       "      <th>0</th>\n",
       "      <td>Extremely rude ground service. We were non-rev...</td>\n",
       "    </tr>\n",
       "    <tr>\n",
       "      <th>1</th>\n",
       "      <td>My son and I flew to Geneva last Sunday for a ...</td>\n",
       "    </tr>\n",
       "    <tr>\n",
       "      <th>2</th>\n",
       "      <td>For the price paid (bought during a sale) it w...</td>\n",
       "    </tr>\n",
       "    <tr>\n",
       "      <th>3</th>\n",
       "      <td>Flight left on time and arrived over half an h...</td>\n",
       "    </tr>\n",
       "    <tr>\n",
       "      <th>4</th>\n",
       "      <td>Very Poor Business class product, BA is not ev...</td>\n",
       "    </tr>\n",
       "  </tbody>\n",
       "</table>\n",
       "</div>"
      ],
      "text/plain": [
       "                                             reviews\n",
       "0  Extremely rude ground service. We were non-rev...\n",
       "1  My son and I flew to Geneva last Sunday for a ...\n",
       "2  For the price paid (bought during a sale) it w...\n",
       "3  Flight left on time and arrived over half an h...\n",
       "4  Very Poor Business class product, BA is not ev..."
      ]
     },
     "execution_count": 58,
     "metadata": {},
     "output_type": "execute_result"
    }
   ],
   "source": [
    "# Transform data to DataFrame format\n",
    "df = pd.DataFrame()\n",
    "df[\"reviews\"] = reviews\n",
    "df.head()\n"
   ]
  },
  {
   "cell_type": "code",
   "execution_count": 59,
   "metadata": {},
   "outputs": [],
   "source": [
    "# Store DataFrame to CSV format\n",
    "df.to_csv(\"csv_data/BADS_reviews.csv\")\n"
   ]
  },
  {
   "cell_type": "markdown",
   "metadata": {},
   "source": [
    "Congratulations! Now we have our dataset for this task! \n"
   ]
  }
 ],
 "metadata": {
  "kernelspec": {
   "display_name": "Python 3.9.13 ('venv': venv)",
   "language": "python",
   "name": "python3"
  },
  "language_info": {
   "codemirror_mode": {
    "name": "ipython",
    "version": 3
   },
   "file_extension": ".py",
   "mimetype": "text/x-python",
   "name": "python",
   "nbconvert_exporter": "python",
   "pygments_lexer": "ipython3",
   "version": "3.9.12"
  },
  "orig_nbformat": 4,
  "vscode": {
   "interpreter": {
    "hash": "4f7924c4c56b083e0e50eadfe7ef592a7a8ef70df33a0047f82280e6be1afe15"
   }
  }
 },
 "nbformat": 4,
 "nbformat_minor": 2
}
